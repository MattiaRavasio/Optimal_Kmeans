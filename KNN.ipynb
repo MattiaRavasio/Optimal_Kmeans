{
 "cells": [
  {
   "cell_type": "code",
   "execution_count": 17,
   "metadata": {},
   "outputs": [],
   "source": [
    "using CSV, Tables, LinearAlgebra, Random, Gurobi, JuMP, DataFrames, Statistics, MLJ, Plots"
   ]
  },
  {
   "cell_type": "code",
   "execution_count": 12,
   "metadata": {},
   "outputs": [],
   "source": [
    "### synthtic points\n",
    "\n",
    "X, yy = make_blobs(50, 2; centers=2, cluster_std=[1.0, 3.0])\n",
    "points = Matrix(DataFrame(X));"
   ]
  },
  {
   "cell_type": "code",
   "execution_count": 13,
   "metadata": {},
   "outputs": [],
   "source": [
    "# J = n of points\n",
    "# I clusters\n",
    "# D = dimension\n",
    "# points[j,d]\n",
    "\n",
    "J = 50;\n",
    "I = 2;\n",
    "D = 2;"
   ]
  },
  {
   "cell_type": "code",
   "execution_count": 14,
   "metadata": {},
   "outputs": [
    {
     "name": "stdout",
     "output_type": "stream",
     "text": [
      "Set parameter Username\n",
      "Academic license - for non-commercial use only - expires 2023-10-04\n",
      "Gurobi Optimizer version 9.5.2 build v9.5.2rc0 (mac64[arm])\n",
      "Thread count: 8 physical cores, 8 logical processors, using up to 8 threads\n",
      "Optimize a model with 850 rows, 554 columns and 2000 nonzeros\n",
      "Model fingerprint: 0x0b736ed8\n",
      "Variable types: 454 continuous, 100 integer (100 binary)\n",
      "Coefficient statistics:\n",
      "  Matrix range     [1e+00, 1e+03]\n",
      "  Objective range  [1e+00, 1e+00]\n",
      "  Bounds range     [0e+00, 0e+00]\n",
      "  RHS range        [6e-01, 1e+03]\n",
      "Presolve removed 462 rows and 306 columns\n",
      "Presolve time: 0.00s\n",
      "Presolved: 388 rows, 248 columns, 976 nonzeros\n",
      "Variable types: 198 continuous, 50 integer (50 binary)\n",
      "Found heuristic solution: objective 540.4370280\n",
      "\n",
      "Root relaxation: objective 1.522350e+02, 257 iterations, 0.00 seconds (0.00 work units)\n",
      "\n",
      "    Nodes    |    Current Node    |     Objective Bounds      |     Work\n",
      " Expl Unexpl |  Obj  Depth IntInf | Incumbent    BestBd   Gap | It/Node Time\n",
      "\n",
      "     0     0  152.23498    0   50  540.43703  152.23498  71.8%     -    0s\n",
      "H    0     0                     492.4018263  152.23498  69.1%     -    0s\n",
      "     0     0  162.55970    0   50  492.40183  162.55970  67.0%     -    0s\n",
      "     0     0  162.55970    0   50  492.40183  162.55970  67.0%     -    0s\n",
      "     0     0  172.41696    0   50  492.40183  172.41696  65.0%     -    0s\n",
      "H    0     0                     459.6728662  172.41696  62.5%     -    0s\n",
      "     0     0  182.18833    0   50  459.67287  182.18833  60.4%     -    0s\n",
      "     0     0  182.18833    0   50  459.67287  182.18833  60.4%     -    0s\n",
      "     0     0  182.18833    0   50  459.67287  182.18833  60.4%     -    0s\n",
      "     0     0  182.18833    0   50  459.67287  182.18833  60.4%     -    0s\n",
      "     0     0  182.18833    0   50  459.67287  182.18833  60.4%     -    0s\n",
      "     0     0  182.18833    0   50  459.67287  182.18833  60.4%     -    0s\n",
      "     0     0  182.18833    0   50  459.67287  182.18833  60.4%     -    0s\n",
      "     0     0  192.41886    0   50  459.67287  192.41886  58.1%     -    0s\n",
      "     0     0  192.41886    0   50  459.67287  192.41886  58.1%     -    0s\n",
      "     0     2  192.41886    0   50  459.67287  192.41886  58.1%     -    0s\n",
      "H   33    40                     369.1762079  192.41886  47.9%  71.5    0s\n",
      "H   64    80                     348.5567185  192.41886  44.8%  54.6    0s\n",
      "H   68    80                     331.3078549  192.41886  41.9%  51.7    0s\n",
      "H  119   144                     311.0766338  192.41886  38.1%  38.8    0s\n",
      "H  122   144                     289.6769561  192.41886  33.6%  38.3    0s\n",
      "H  180   200                     279.1737385  192.41886  31.1%  31.6    0s\n",
      "H  195   200                     271.4604321  192.41886  29.1%  30.1    0s\n",
      "*  561   468              50     268.4126727  196.93532  26.6%  21.9    0s\n",
      "\n",
      "Explored 14188 nodes (328344 simplex iterations) in 0.96 seconds (1.24 work units)\n",
      "Thread count was 8 (of 8 available processors)\n",
      "\n",
      "Solution count 10: 268.413 271.46 279.174 ... 459.673\n",
      "\n",
      "Optimal solution found (tolerance 1.00e-04)\n",
      "Best objective 2.684126727050e+02, best bound 2.684126727050e+02, gap 0.0000%\n",
      "\n",
      "User-callback calls 29233, time in user-callback 0.00 sec\n"
     ]
    }
   ],
   "source": [
    "model = JuMP.Model(Gurobi.Optimizer);\n",
    "\n",
    "@variable(model, gamma[1:J]);\n",
    "@variable(model, z[1:J, 1:I],Bin);\n",
    "@variable(model, mu[1:J, 1:I] >=0);\n",
    "@variable(model, r[1:J, 1:I] >=0);\n",
    "## for dimension of data\n",
    "@variable(model, x[1:I, 1:D] >=0);\n",
    "@variable(model, y[1:J, 1:D, 1:I] >=0);\n",
    "\n",
    "### one point per cluster, one cluster per point\n",
    "#@constraint(model, [i = 1:I], sum(z[:,i]) == 1);\n",
    "@constraint(model, [j = 1:J], sum(z[j,:]) == 1);\n",
    "\n",
    "@constraint(model, [i=1:I, j=1:J, d=1:D], sum(y[j,d,i] for d=1:D) == r[j,i]);\n",
    "@constraint(model, [i=1:I, j=1:J, d=1:D], y[j,d,i] >= x[i,d] - points[j,d]);\n",
    "@constraint(model, [i=1:I, j=1:J, d=1:D], y[j,d,i] >= -(x[i,d] - points[j,d]));\n",
    "\n",
    "@constraint(model, [i=1:I, j=1:J], gamma[j]>= r[j,i]-mu[j,i]);\n",
    "\n",
    "@constraint(model, [i = 1:I, j = 1:J], 1000(1-z[j,i]) >= mu[j,i]);\n",
    "\n",
    "@objective(model, Min, sum(gamma[j] for j=1:J));\n",
    "\n",
    "optimize!(model);"
   ]
  },
  {
   "cell_type": "code",
   "execution_count": 9,
   "metadata": {},
   "outputs": [
    {
     "data": {
      "text/plain": [
       "50×2 Matrix{Float64}:\n",
       "  1.0  0.0\n",
       "  1.0  0.0\n",
       "  1.0  0.0\n",
       "  1.0  0.0\n",
       " -0.0  1.0\n",
       "  1.0  0.0\n",
       " -0.0  1.0\n",
       "  1.0  0.0\n",
       " -0.0  1.0\n",
       "  1.0  0.0\n",
       "  1.0  0.0\n",
       " -0.0  1.0\n",
       " -0.0  1.0\n",
       "  ⋮    \n",
       "  1.0  0.0\n",
       " -0.0  1.0\n",
       "  1.0  0.0\n",
       "  1.0  0.0\n",
       "  1.0  0.0\n",
       " -0.0  1.0\n",
       "  1.0  0.0\n",
       "  1.0  0.0\n",
       " -0.0  1.0\n",
       "  1.0  0.0\n",
       "  1.0  0.0\n",
       " -0.0  1.0"
      ]
     },
     "execution_count": 9,
     "metadata": {},
     "output_type": "execute_result"
    }
   ],
   "source": [
    "value.(z)"
   ]
  },
  {
   "cell_type": "code",
   "execution_count": 21,
   "metadata": {},
   "outputs": [
    {
     "data": {
      "text/plain": [
       "2×2 Matrix{Float64}:\n",
       " 7.85903   0.0\n",
       " 4.34395  10.1691"
      ]
     },
     "execution_count": 21,
     "metadata": {},
     "output_type": "execute_result"
    }
   ],
   "source": [
    "value.(x)"
   ]
  }
 ],
 "metadata": {
  "kernelspec": {
   "display_name": "Julia 1.8.2",
   "language": "julia",
   "name": "julia-1.8"
  },
  "language_info": {
   "file_extension": ".jl",
   "mimetype": "application/julia",
   "name": "julia",
   "version": "1.8.2"
  },
  "orig_nbformat": 4
 },
 "nbformat": 4,
 "nbformat_minor": 2
}
